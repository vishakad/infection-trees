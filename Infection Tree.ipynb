{
 "cells": [
  {
   "cell_type": "code",
   "execution_count": 1,
   "metadata": {
    "ExecuteTime": {
     "end_time": "2017-08-03T10:08:39.558119Z",
     "start_time": "2017-08-03T10:08:39.289474Z"
    }
   },
   "outputs": [
    {
     "name": "stdout",
     "output_type": "stream",
     "text": [
      "Using matplotlib backend: TkAgg\n"
     ]
    }
   ],
   "source": [
    "import numpy as np\n",
    "import scipy.stats\n",
    "import scipy\n",
    "import matplotlib.pyplot as plt\n",
    "%load_ext autoreload\n",
    "%autoreload 2\n",
    "%matplotlib\n",
    "from tqdm import tqdm"
   ]
  },
  {
   "cell_type": "markdown",
   "metadata": {},
   "source": [
    "\n",
    "# Testing the likelihood expression in (Lau et. al, 2017)\n",
    "\n",
    "\n",
    "Suppose there are two patients in a population and $E_1$ and $E_2$ refer to the time of exposure of both patients to an infection. One of the components of the likelihood function of a given infection tree to be computed is the probability $P_E(E_1 = e_1,E_2 = e_2)$. In the paper, it is assumed that $E_1$ and $E_2$ are samples from a Poisson distribution with some time-varying rate $\\lambda$. It is also assumed that once a patient is exposed, the patient is infected. Subsequent infections of the same patient don't matter. In such a scenario,  the Poisson assumption allows the above probability to be calculated rather easily as $E_1$ and $E_2 - E_1$, which are random variables that represent the waiting times for patients 1 and to be infected, are exponentially distributed random variables. \n",
    "\n",
    "If a Poisson infection process with rate $\\lambda$ infects two nodes at times $T_i$ and $T_{i+1}$, the distribution of the difference $w = T_{i+1} - T_i$ is $P_W(W = w) = \\lambda \\exp( -\\lambda w)$. The mean value $<W> = 1/\\lambda$. \n",
    "\n",
    "There are two ways in which 1 and 2 can get infected. \n",
    "1. Either both independently get infected from some background source, or \n",
    "2. Patient 1 gets infected by the background source at time $E_1$. After the disease incubates for a time period $I_1$, patient 2 gets infected from patient 1 at time $E_2$ (in such a case, $E_2 > E_1 + I_1$). \n",
    "\n"
   ]
  },
  {
   "cell_type": "code",
   "execution_count": 22,
   "metadata": {
    "ExecuteTime": {
     "end_time": "2017-08-03T11:12:21.807215Z",
     "start_time": "2017-08-03T11:12:21.795828Z"
    },
    "collapsed": true
   },
   "outputs": [],
   "source": [
    "lambdaBase = 2 #Arrival rate of infections from background.\n",
    "lambdaNode = 3 #Arrival rate of infections from patient 1\n",
    "numInfections = 20000 #Number of infection time pairs (E_1,E_2) to sample in a given replicate\n",
    "kdeReplicates = 20 #Number of replicates to run"
   ]
  },
  {
   "cell_type": "markdown",
   "metadata": {
    "ExecuteTime": {
     "end_time": "2017-08-03T11:10:36.650326Z",
     "start_time": "2017-08-03T11:10:36.639767Z"
    }
   },
   "source": [
    "## Case 1 : Background node infects both patients"
   ]
  },
  {
   "cell_type": "code",
   "execution_count": 23,
   "metadata": {
    "ExecuteTime": {
     "end_time": "2017-08-03T11:12:58.637931Z",
     "start_time": "2017-08-03T11:12:57.653814Z"
    }
   },
   "outputs": [
    {
     "data": {
      "text/plain": [
       "<matplotlib.text.Text at 0x7fc2df3ae810>"
      ]
     },
     "execution_count": 23,
     "metadata": {},
     "output_type": "execute_result"
    }
   ],
   "source": [
    "meanDiff = []\n",
    "stdDiff = []\n",
    "E2evalList = np.linspace( 0.6, 2, 20 ) \n",
    "testPair = [0.5,1.8]\n",
    "plt.figure()\n",
    "for E2eval in E2evalList:\n",
    "    testPair[1] = E2eval\n",
    "    temp = []\n",
    "    theoPdf = lambdaBase * lambdaBase * np.exp( -lambdaBase * testPair[1] )    \n",
    "    for _ in range(kdeReplicates):\n",
    "        E1fromIndex = np.random.exponential( scale=1.0/lambdaBase, size=numReplicates )\n",
    "        E2fromIndex = E1fromIndex + np.random.exponential( scale=1.0/lambdaBase, size=numReplicates )\n",
    "        \n",
    "        E1 = E1fromIndex\n",
    "        E2 = E2fromIndex\n",
    "        kde = scipy.stats.gaussian_kde( (E1,E2) )\n",
    "        temp.append( 100*abs(kde.evaluate( testPair )[0] - theoPdf)/theoPdf )\n",
    "\n",
    "    meanDiff.append( np.mean( temp ) )\n",
    "    stdDiff.append( np.std(temp) ) \n",
    " \n",
    "plt.errorbar( E2evalList, meanDiff, yerr=stdDiff, marker='o' )\n",
    "ax = plt.gca()\n",
    "ax.set_xlabel( 'Infection time of second patient' )\n",
    "ax.set_ylabel( '%age difference between KDE and theoretical estimate')\n",
    "\n"
   ]
  },
  {
   "cell_type": "markdown",
   "metadata": {},
   "source": [
    "## Case 2 : Background infects node 1, and node 1 infects node 2"
   ]
  },
  {
   "cell_type": "code",
   "execution_count": 24,
   "metadata": {
    "ExecuteTime": {
     "end_time": "2017-08-03T11:13:58.075583Z",
     "start_time": "2017-08-03T11:13:57.076284Z"
    }
   },
   "outputs": [
    {
     "name": "stderr",
     "output_type": "stream",
     "text": [
      "100%|██████████| 20/20 [00:00<00:00, 22.15it/s]\n"
     ]
    },
    {
     "data": {
      "text/plain": [
       "<matplotlib.text.Text at 0x7fc2df3ae810>"
      ]
     },
     "execution_count": 24,
     "metadata": {},
     "output_type": "execute_result"
    }
   ],
   "source": [
    "meanDiff = []\n",
    "stdDiff = []\n",
    "E2evalList = np.linspace( 2, 3, 20 )\n",
    "testPair = [0.5,1.8]\n",
    "plt.figure()\n",
    "I1 = 1\n",
    "for E2eval in tqdm(E2evalList):\n",
    "    testPair[1] = E2eval\n",
    "    temp = []\n",
    "    theoPdf = lambdaNode * np.exp( -lambdaNode * (testPair[1] - testPair[0] - I1) ) * lambdaBase * np.exp( -lambdaBase * testPair[0] )                \n",
    "    for _ in range(kdeReplicates):\n",
    "        E1fromIndex = np.random.exponential( scale=1.0/lambdaBase, size=numReplicates )\n",
    "        #I1= np.random.gamma( 3, 0.02, size=numReplicates )\n",
    "        E2fromPatient1 = I1 + E1fromIndex + np.random.exponential( scale=1.0/lambdaNode, size=numReplicates )\n",
    "\n",
    "        E1 = E1fromIndex\n",
    "        E2 = E2fromPatient1\n",
    "        kde = scipy.stats.gaussian_kde( (E1,E2) )\n",
    "        temp.append( 100*abs(kde.evaluate( testPair )[0] - theoPdf)/theoPdf )\n",
    "\n",
    "    meanDiff.append( np.mean( temp ) )\n",
    "    stdDiff.append( np.std(temp) ) \n",
    " \n",
    "plt.errorbar( E2evalList, meanDiff, yerr=stdDiff, marker='o' )\n",
    "ax.set_xlabel( 'Infection time of second patient' )\n",
    "ax.set_ylabel( '%age difference between KDE and theoretical estimate')"
   ]
  }
 ],
 "metadata": {
  "kernelspec": {
   "display_name": "Python 2",
   "language": "python",
   "name": "python2"
  },
  "language_info": {
   "codemirror_mode": {
    "name": "ipython",
    "version": 2
   },
   "file_extension": ".py",
   "mimetype": "text/x-python",
   "name": "python",
   "nbconvert_exporter": "python",
   "pygments_lexer": "ipython2",
   "version": "2.7.12"
  },
  "toc": {
   "colors": {
    "hover_highlight": "#DAA520",
    "navigate_num": "#000000",
    "navigate_text": "#333333",
    "running_highlight": "#FF0000",
    "selected_highlight": "#FFD700",
    "sidebar_border": "#EEEEEE",
    "wrapper_background": "#FFFFFF"
   },
   "moveMenuLeft": true,
   "nav_menu": {
    "height": "63px",
    "width": "252px"
   },
   "navigate_menu": true,
   "number_sections": true,
   "sideBar": true,
   "threshold": 4,
   "toc_cell": false,
   "toc_section_display": "block",
   "toc_window_display": false,
   "widenNotebook": false
  }
 },
 "nbformat": 4,
 "nbformat_minor": 2
}
